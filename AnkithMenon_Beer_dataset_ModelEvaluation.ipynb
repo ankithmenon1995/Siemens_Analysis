{
 "cells": [
  {
   "cell_type": "code",
   "execution_count": 37,
   "metadata": {},
   "outputs": [],
   "source": [
    "# Imports\n",
    "import pandas as pd\n",
    "import matplotlib.pyplot as plt\n",
    "import seaborn as sns\n",
    "import numpy as np"
   ]
  },
  {
   "cell_type": "code",
   "execution_count": 38,
   "metadata": {},
   "outputs": [],
   "source": [
    "pd.set_option('max_columns', None)"
   ]
  },
  {
   "cell_type": "code",
   "execution_count": 39,
   "metadata": {},
   "outputs": [],
   "source": [
    "from sklearn.model_selection import cross_val_score\n",
    "from sklearn.model_selection import GridSearchCV\n",
    "from sklearn.model_selection import KFold"
   ]
  },
  {
   "cell_type": "markdown",
   "metadata": {},
   "source": [
    "### Run the Beer_dataset_EDA notebook in order to generate preprocessed training data and test data"
   ]
  },
  {
   "cell_type": "code",
   "execution_count": 40,
   "metadata": {},
   "outputs": [],
   "source": [
    "\n",
    "# Load the saved numpy arrays\n",
    "X_train = np.load('X_train.npy')\n",
    "X_test = np.load('X_test.npy')\n",
    "y_train = np.load('y_train.npy')\n",
    "y_test = np.load('y_test.npy')"
   ]
  },
  {
   "cell_type": "code",
   "execution_count": 41,
   "metadata": {},
   "outputs": [
    {
     "name": "stdout",
     "output_type": "stream",
     "text": [
      "X_train.shape :  (7279, 11)\n",
      "X_test.shape :  (1820, 11)\n",
      "y_train.shape :  (7279,)\n",
      "y_test.shape :  (1820,)\n"
     ]
    }
   ],
   "source": [
    "print(\"X_train.shape : \", X_train.shape)\n",
    "print(\"X_test.shape : \", X_test.shape)\n",
    "print(\"y_train.shape : \", y_train.shape)\n",
    "print(\"y_test.shape : \", y_test.shape)"
   ]
  },
  {
   "cell_type": "code",
   "execution_count": null,
   "metadata": {},
   "outputs": [],
   "source": []
  },
  {
   "cell_type": "markdown",
   "metadata": {},
   "source": [
    "# 3. Training different ML models"
   ]
  },
  {
   "cell_type": "code",
   "execution_count": null,
   "metadata": {},
   "outputs": [],
   "source": []
  },
  {
   "cell_type": "markdown",
   "metadata": {},
   "source": [
    "### 3.1 Baseline Regression model using Random forest regressor\n",
    "A baseline regression model is defined without any hyper-parameter tuning. I will then define three regression models and tune them such that their performance should be better than the baseline model"
   ]
  },
  {
   "cell_type": "code",
   "execution_count": 128,
   "metadata": {},
   "outputs": [
    {
     "data": {
      "text/plain": [
       "RandomForestRegressor(random_state=42)"
      ]
     },
     "execution_count": 128,
     "metadata": {},
     "output_type": "execute_result"
    }
   ],
   "source": [
    "from sklearn.ensemble import RandomForestRegressor\n",
    "#import xgboost as xgb\n",
    "\n",
    "forest_model = RandomForestRegressor(random_state = 42)\n",
    "\n",
    "forest_model.fit(X_train, y_train)"
   ]
  },
  {
   "cell_type": "code",
   "execution_count": 129,
   "metadata": {},
   "outputs": [],
   "source": [
    "from sklearn.metrics import mean_squared_error\n",
    "from sklearn.metrics import mean_absolute_error"
   ]
  },
  {
   "cell_type": "code",
   "execution_count": 130,
   "metadata": {},
   "outputs": [
    {
     "name": "stdout",
     "output_type": "stream",
     "text": [
      "MSE:  49.84730208626374\n"
     ]
    }
   ],
   "source": [
    "y_pred = forest_model.predict(X_test)\n",
    "\n",
    "print('MSE: ', mean_squared_error(y_test, y_pred))"
   ]
  },
  {
   "cell_type": "code",
   "execution_count": null,
   "metadata": {},
   "outputs": [],
   "source": []
  },
  {
   "cell_type": "markdown",
   "metadata": {},
   "source": [
    "### Visualize some of the predicted data"
   ]
  },
  {
   "cell_type": "code",
   "execution_count": 132,
   "metadata": {},
   "outputs": [
    {
     "data": {
      "image/png": "[encoded data removed]",
      "text/plain": [
       "<Figure size 1080x504 with 1 Axes>"
      ]
     },
     "metadata": {
      "needs_background": "light"
     },
     "output_type": "display_data"
    }
   ],
   "source": [
    "N1 = 270\n",
    "N2 = 290\n",
    "\n",
    "# Specify the values of blue bars (height)\n",
    "y_true_eff = y_test[N1:N2]\n",
    "# Specify the values of orange bars (height)\n",
    "y_pred_eff = y_pred[N1:N2]\n",
    "\n",
    "# Position of bars on x-axis\n",
    "ind = np.arange(N2 - N1)\n",
    "\n",
    "# Figure size\n",
    "plt.figure(figsize=(15,7))\n",
    "\n",
    "# Width of a bar \n",
    "width = 0.3       \n",
    "\n",
    "# Plotting\n",
    "plt.bar(ind, y_true_eff , width, label='y_test')\n",
    "plt.bar(ind + width, y_pred_eff, width, label='y_pred')\n",
    "\n",
    "plt.xlabel('Different instances')\n",
    "plt.ylabel('Efficiency')\n",
    "plt.title('Ground truth efficiency vs Predicted efficiency of beer')\n",
    "\n",
    "ax = plt.gca()\n",
    "ax.set_ylim([50, max(max(y_true_eff), max(y_pred_eff))+3])\n",
    "\n",
    "# Finding the best position for legends and putting it\n",
    "plt.legend(loc='best')\n",
    "plt.show()"
   ]
  },
  {
   "cell_type": "code",
   "execution_count": null,
   "metadata": {},
   "outputs": [],
   "source": []
  },
  {
   "cell_type": "markdown",
   "metadata": {},
   "source": [
    "## Model 1: Random forest regression model to predict Efficiency scores"
   ]
  },
  {
   "cell_type": "code",
   "execution_count": null,
   "metadata": {},
   "outputs": [],
   "source": []
  },
  {
   "cell_type": "code",
   "execution_count": 49,
   "metadata": {},
   "outputs": [
    {
     "data": {
      "text/plain": [
       "array([-43.84382246, -51.89873342, -49.45695783, -44.81466184,\n",
       "       -50.71072839])"
      ]
     },
     "execution_count": 49,
     "metadata": {},
     "output_type": "execute_result"
    }
   ],
   "source": [
    "forest_model = RandomForestRegressor(n_estimators = 100, random_state = 42)\n",
    "\n",
    "scores = cross_val_score(forest_model, X_train, y_train, scoring='neg_mean_squared_error', cv=5)\n",
    "scores  "
   ]
  },
  {
   "cell_type": "code",
   "execution_count": 50,
   "metadata": {},
   "outputs": [
    {
     "name": "stderr",
     "output_type": "stream",
     "text": [
      "D:\\Anaconda3\\envs\\ML_omscs\\lib\\site-packages\\sklearn\\model_selection\\_split.py:293: FutureWarning: Setting a random_state has no effect since shuffle is False. This will raise an error in 0.24. You should leave random_state to its default (None), or set shuffle=True.\n",
      "  warnings.warn(\n"
     ]
    }
   ],
   "source": [
    "# Grid search\n",
    "#                'max_depth': max_depth,\n",
    "\n",
    "forest_model = RandomForestRegressor(random_state = 42, n_jobs = -1)\n",
    "folds = KFold(n_splits = 5, shuffle = False, random_state = 42)\n",
    "\n",
    "hyper_params = {'n_estimators': [200, 300],\n",
    "                'max_features': ['auto'],\n",
    "                'min_samples_split': [2, 5] ,\n",
    "                'min_samples_leaf': [1, 3, 5],\n",
    "                'bootstrap': [True] }\n",
    "\n",
    "model_cv = GridSearchCV(estimator = forest_model, \n",
    "                        param_grid = hyper_params, \n",
    "                        scoring= 'neg_mean_squared_error', \n",
    "                        cv = folds, \n",
    "                        verbose = 1,\n",
    "                        return_train_score=True)\n",
    "\n"
   ]
  },
  {
   "cell_type": "code",
   "execution_count": 51,
   "metadata": {},
   "outputs": [
    {
     "name": "stderr",
     "output_type": "stream",
     "text": [
      "[Parallel(n_jobs=1)]: Using backend SequentialBackend with 1 concurrent workers.\n"
     ]
    },
    {
     "name": "stdout",
     "output_type": "stream",
     "text": [
      "Fitting 5 folds for each of 12 candidates, totalling 60 fits\n"
     ]
    },
    {
     "name": "stderr",
     "output_type": "stream",
     "text": [
      "[Parallel(n_jobs=1)]: Done  60 out of  60 | elapsed:  1.4min finished\n"
     ]
    },
    {
     "data": {
      "text/plain": [
       "GridSearchCV(cv=KFold(n_splits=5, random_state=42, shuffle=False),\n",
       "             estimator=RandomForestRegressor(n_jobs=-1, random_state=42),\n",
       "             param_grid={'bootstrap': [True], 'max_features': ['auto'],\n",
       "                         'min_samples_leaf': [1, 3, 5],\n",
       "                         'min_samples_split': [2, 5],\n",
       "                         'n_estimators': [200, 300]},\n",
       "             return_train_score=True, scoring='neg_mean_squared_error',\n",
       "             verbose=1)"
      ]
     },
     "execution_count": 51,
     "metadata": {},
     "output_type": "execute_result"
    }
   ],
   "source": [
    "model_cv.fit(X_train, y_train)"
   ]
  },
  {
   "cell_type": "code",
   "execution_count": 52,
   "metadata": {},
   "outputs": [],
   "source": [
    "cv_results = pd.DataFrame(model_cv.cv_results_)\n",
    "cv_results\n",
    "\n",
    "cv_results.drop(['mean_fit_time','std_fit_time','mean_score_time','std_score_time'], axis = 1, inplace = True)"
   ]
  },
  {
   "cell_type": "code",
   "execution_count": 53,
   "metadata": {},
   "outputs": [
    {
     "data": {
      "text/html": [
       "<div>\n",
       "<style scoped>\n",
       "    .dataframe tbody tr th:only-of-type {\n",
       "        vertical-align: middle;\n",
       "    }\n",
       "\n",
       "    .dataframe tbody tr th {\n",
       "        vertical-align: top;\n",
       "    }\n",
       "\n",
       "    .dataframe thead th {\n",
       "        text-align: right;\n",
       "    }\n",
       "</style>\n",
       "<table border=\"1\" class=\"dataframe\">\n",
       "  <thead>\n",
       "    <tr style=\"text-align: right;\">\n",
       "      <th></th>\n",
       "      <th>param_bootstrap</th>\n",
       "      <th>param_max_features</th>\n",
       "      <th>param_min_samples_leaf</th>\n",
       "      <th>param_min_samples_split</th>\n",
       "      <th>param_n_estimators</th>\n",
       "      <th>params</th>\n",
       "      <th>split0_test_score</th>\n",
       "      <th>split1_test_score</th>\n",
       "      <th>split2_test_score</th>\n",
       "      <th>split3_test_score</th>\n",
       "      <th>split4_test_score</th>\n",
       "      <th>mean_test_score</th>\n",
       "      <th>std_test_score</th>\n",
       "      <th>rank_test_score</th>\n",
       "      <th>split0_train_score</th>\n",
       "      <th>split1_train_score</th>\n",
       "      <th>split2_train_score</th>\n",
       "      <th>split3_train_score</th>\n",
       "      <th>split4_train_score</th>\n",
       "      <th>mean_train_score</th>\n",
       "      <th>std_train_score</th>\n",
       "    </tr>\n",
       "  </thead>\n",
       "  <tbody>\n",
       "    <tr>\n",
       "      <th>0</th>\n",
       "      <td>True</td>\n",
       "      <td>auto</td>\n",
       "      <td>1</td>\n",
       "      <td>2</td>\n",
       "      <td>200</td>\n",
       "      <td>{'bootstrap': True, 'max_features': 'auto', 'm...</td>\n",
       "      <td>-43.754766</td>\n",
       "      <td>-51.424813</td>\n",
       "      <td>-49.271409</td>\n",
       "      <td>-44.290630</td>\n",
       "      <td>-50.225748</td>\n",
       "      <td>-47.793473</td>\n",
       "      <td>3.158099</td>\n",
       "      <td>12</td>\n",
       "      <td>-6.723710</td>\n",
       "      <td>-6.475626</td>\n",
       "      <td>-6.591933</td>\n",
       "      <td>-6.634831</td>\n",
       "      <td>-6.389608</td>\n",
       "      <td>-6.563142</td>\n",
       "      <td>0.117918</td>\n",
       "    </tr>\n",
       "    <tr>\n",
       "      <th>1</th>\n",
       "      <td>True</td>\n",
       "      <td>auto</td>\n",
       "      <td>1</td>\n",
       "      <td>2</td>\n",
       "      <td>300</td>\n",
       "      <td>{'bootstrap': True, 'max_features': 'auto', 'm...</td>\n",
       "      <td>-43.780562</td>\n",
       "      <td>-51.179482</td>\n",
       "      <td>-49.040225</td>\n",
       "      <td>-44.306129</td>\n",
       "      <td>-50.069928</td>\n",
       "      <td>-47.675265</td>\n",
       "      <td>3.046206</td>\n",
       "      <td>10</td>\n",
       "      <td>-6.693092</td>\n",
       "      <td>-6.416003</td>\n",
       "      <td>-6.505740</td>\n",
       "      <td>-6.582243</td>\n",
       "      <td>-6.352917</td>\n",
       "      <td>-6.509999</td>\n",
       "      <td>0.120225</td>\n",
       "    </tr>\n",
       "    <tr>\n",
       "      <th>2</th>\n",
       "      <td>True</td>\n",
       "      <td>auto</td>\n",
       "      <td>1</td>\n",
       "      <td>5</td>\n",
       "      <td>200</td>\n",
       "      <td>{'bootstrap': True, 'max_features': 'auto', 'm...</td>\n",
       "      <td>-43.601730</td>\n",
       "      <td>-51.545968</td>\n",
       "      <td>-49.053133</td>\n",
       "      <td>-44.259376</td>\n",
       "      <td>-50.231381</td>\n",
       "      <td>-47.738317</td>\n",
       "      <td>3.214240</td>\n",
       "      <td>11</td>\n",
       "      <td>-10.035689</td>\n",
       "      <td>-9.578729</td>\n",
       "      <td>-9.785570</td>\n",
       "      <td>-9.912133</td>\n",
       "      <td>-9.643091</td>\n",
       "      <td>-9.791042</td>\n",
       "      <td>0.168233</td>\n",
       "    </tr>\n",
       "    <tr>\n",
       "      <th>3</th>\n",
       "      <td>True</td>\n",
       "      <td>auto</td>\n",
       "      <td>1</td>\n",
       "      <td>5</td>\n",
       "      <td>300</td>\n",
       "      <td>{'bootstrap': True, 'max_features': 'auto', 'm...</td>\n",
       "      <td>-43.573109</td>\n",
       "      <td>-51.298257</td>\n",
       "      <td>-48.658320</td>\n",
       "      <td>-44.224549</td>\n",
       "      <td>-50.156090</td>\n",
       "      <td>-47.582065</td>\n",
       "      <td>3.128535</td>\n",
       "      <td>5</td>\n",
       "      <td>-9.988573</td>\n",
       "      <td>-9.540874</td>\n",
       "      <td>-9.755594</td>\n",
       "      <td>-9.856742</td>\n",
       "      <td>-9.593448</td>\n",
       "      <td>-9.747046</td>\n",
       "      <td>0.165252</td>\n",
       "    </tr>\n",
       "    <tr>\n",
       "      <th>4</th>\n",
       "      <td>True</td>\n",
       "      <td>auto</td>\n",
       "      <td>3</td>\n",
       "      <td>2</td>\n",
       "      <td>200</td>\n",
       "      <td>{'bootstrap': True, 'max_features': 'auto', 'm...</td>\n",
       "      <td>-42.812996</td>\n",
       "      <td>-51.362481</td>\n",
       "      <td>-48.260889</td>\n",
       "      <td>-44.235734</td>\n",
       "      <td>-50.497102</td>\n",
       "      <td>-47.433841</td>\n",
       "      <td>3.378813</td>\n",
       "      <td>3</td>\n",
       "      <td>-16.595470</td>\n",
       "      <td>-15.689621</td>\n",
       "      <td>-15.968880</td>\n",
       "      <td>-16.057031</td>\n",
       "      <td>-15.862521</td>\n",
       "      <td>-16.034705</td>\n",
       "      <td>0.305947</td>\n",
       "    </tr>\n",
       "    <tr>\n",
       "      <th>5</th>\n",
       "      <td>True</td>\n",
       "      <td>auto</td>\n",
       "      <td>3</td>\n",
       "      <td>2</td>\n",
       "      <td>300</td>\n",
       "      <td>{'bootstrap': True, 'max_features': 'auto', 'm...</td>\n",
       "      <td>-42.859813</td>\n",
       "      <td>-51.454458</td>\n",
       "      <td>-48.083086</td>\n",
       "      <td>-44.260181</td>\n",
       "      <td>-50.488886</td>\n",
       "      <td>-47.429285</td>\n",
       "      <td>3.373838</td>\n",
       "      <td>1</td>\n",
       "      <td>-16.543954</td>\n",
       "      <td>-15.650263</td>\n",
       "      <td>-15.958253</td>\n",
       "      <td>-16.033438</td>\n",
       "      <td>-15.880497</td>\n",
       "      <td>-16.013281</td>\n",
       "      <td>0.294775</td>\n",
       "    </tr>\n",
       "    <tr>\n",
       "      <th>6</th>\n",
       "      <td>True</td>\n",
       "      <td>auto</td>\n",
       "      <td>3</td>\n",
       "      <td>5</td>\n",
       "      <td>200</td>\n",
       "      <td>{'bootstrap': True, 'max_features': 'auto', 'm...</td>\n",
       "      <td>-42.812996</td>\n",
       "      <td>-51.362481</td>\n",
       "      <td>-48.260889</td>\n",
       "      <td>-44.235734</td>\n",
       "      <td>-50.497102</td>\n",
       "      <td>-47.433841</td>\n",
       "      <td>3.378813</td>\n",
       "      <td>3</td>\n",
       "      <td>-16.595470</td>\n",
       "      <td>-15.689621</td>\n",
       "      <td>-15.968880</td>\n",
       "      <td>-16.057031</td>\n",
       "      <td>-15.862521</td>\n",
       "      <td>-16.034705</td>\n",
       "      <td>0.305947</td>\n",
       "    </tr>\n",
       "    <tr>\n",
       "      <th>7</th>\n",
       "      <td>True</td>\n",
       "      <td>auto</td>\n",
       "      <td>3</td>\n",
       "      <td>5</td>\n",
       "      <td>300</td>\n",
       "      <td>{'bootstrap': True, 'max_features': 'auto', 'm...</td>\n",
       "      <td>-42.859813</td>\n",
       "      <td>-51.454458</td>\n",
       "      <td>-48.083086</td>\n",
       "      <td>-44.260181</td>\n",
       "      <td>-50.488886</td>\n",
       "      <td>-47.429285</td>\n",
       "      <td>3.373838</td>\n",
       "      <td>2</td>\n",
       "      <td>-16.543954</td>\n",
       "      <td>-15.650263</td>\n",
       "      <td>-15.958253</td>\n",
       "      <td>-16.033438</td>\n",
       "      <td>-15.880497</td>\n",
       "      <td>-16.013281</td>\n",
       "      <td>0.294775</td>\n",
       "    </tr>\n",
       "    <tr>\n",
       "      <th>8</th>\n",
       "      <td>True</td>\n",
       "      <td>auto</td>\n",
       "      <td>5</td>\n",
       "      <td>2</td>\n",
       "      <td>200</td>\n",
       "      <td>{'bootstrap': True, 'max_features': 'auto', 'm...</td>\n",
       "      <td>-42.921752</td>\n",
       "      <td>-51.622709</td>\n",
       "      <td>-48.373254</td>\n",
       "      <td>-44.516238</td>\n",
       "      <td>-50.747897</td>\n",
       "      <td>-47.636370</td>\n",
       "      <td>3.408176</td>\n",
       "      <td>9</td>\n",
       "      <td>-23.819003</td>\n",
       "      <td>-22.597655</td>\n",
       "      <td>-23.129435</td>\n",
       "      <td>-23.231922</td>\n",
       "      <td>-22.821792</td>\n",
       "      <td>-23.119962</td>\n",
       "      <td>0.415450</td>\n",
       "    </tr>\n",
       "    <tr>\n",
       "      <th>9</th>\n",
       "      <td>True</td>\n",
       "      <td>auto</td>\n",
       "      <td>5</td>\n",
       "      <td>2</td>\n",
       "      <td>300</td>\n",
       "      <td>{'bootstrap': True, 'max_features': 'auto', 'm...</td>\n",
       "      <td>-42.944114</td>\n",
       "      <td>-51.612810</td>\n",
       "      <td>-48.293104</td>\n",
       "      <td>-44.481183</td>\n",
       "      <td>-50.734742</td>\n",
       "      <td>-47.613190</td>\n",
       "      <td>3.400384</td>\n",
       "      <td>7</td>\n",
       "      <td>-23.769134</td>\n",
       "      <td>-22.523206</td>\n",
       "      <td>-23.106310</td>\n",
       "      <td>-23.199205</td>\n",
       "      <td>-22.836354</td>\n",
       "      <td>-23.086842</td>\n",
       "      <td>0.414477</td>\n",
       "    </tr>\n",
       "    <tr>\n",
       "      <th>10</th>\n",
       "      <td>True</td>\n",
       "      <td>auto</td>\n",
       "      <td>5</td>\n",
       "      <td>5</td>\n",
       "      <td>200</td>\n",
       "      <td>{'bootstrap': True, 'max_features': 'auto', 'm...</td>\n",
       "      <td>-42.921752</td>\n",
       "      <td>-51.622709</td>\n",
       "      <td>-48.373254</td>\n",
       "      <td>-44.516238</td>\n",
       "      <td>-50.747897</td>\n",
       "      <td>-47.636370</td>\n",
       "      <td>3.408176</td>\n",
       "      <td>8</td>\n",
       "      <td>-23.819003</td>\n",
       "      <td>-22.597655</td>\n",
       "      <td>-23.129435</td>\n",
       "      <td>-23.231922</td>\n",
       "      <td>-22.821792</td>\n",
       "      <td>-23.119962</td>\n",
       "      <td>0.415450</td>\n",
       "    </tr>\n",
       "    <tr>\n",
       "      <th>11</th>\n",
       "      <td>True</td>\n",
       "      <td>auto</td>\n",
       "      <td>5</td>\n",
       "      <td>5</td>\n",
       "      <td>300</td>\n",
       "      <td>{'bootstrap': True, 'max_features': 'auto', 'm...</td>\n",
       "      <td>-42.944114</td>\n",
       "      <td>-51.612810</td>\n",
       "      <td>-48.293104</td>\n",
       "      <td>-44.481183</td>\n",
       "      <td>-50.734742</td>\n",
       "      <td>-47.613190</td>\n",
       "      <td>3.400384</td>\n",
       "      <td>6</td>\n",
       "      <td>-23.769134</td>\n",
       "      <td>-22.523206</td>\n",
       "      <td>-23.106310</td>\n",
       "      <td>-23.199205</td>\n",
       "      <td>-22.836354</td>\n",
       "      <td>-23.086842</td>\n",
       "      <td>0.414477</td>\n",
       "    </tr>\n",
       "  </tbody>\n",
       "</table>\n",
       "</div>"
      ],
      "text/plain": [
       "   param_bootstrap param_max_features param_min_samples_leaf  \\\n",
       "0             True               auto                      1   \n",
       "1             True               auto                      1   \n",
       "2             True               auto                      1   \n",
       "3             True               auto                      1   \n",
       "4             True               auto                      3   \n",
       "5             True               auto                      3   \n",
       "6             True               auto                      3   \n",
       "7             True               auto                      3   \n",
       "8             True               auto                      5   \n",
       "9             True               auto                      5   \n",
       "10            True               auto                      5   \n",
       "11            True               auto                      5   \n",
       "\n",
       "   param_min_samples_split param_n_estimators  \\\n",
       "0                        2                200   \n",
       "1                        2                300   \n",
       "2                        5                200   \n",
       "3                        5                300   \n",
       "4                        2                200   \n",
       "5                        2                300   \n",
       "6                        5                200   \n",
       "7                        5                300   \n",
       "8                        2                200   \n",
       "9                        2                300   \n",
       "10                       5                200   \n",
       "11                       5                300   \n",
       "\n",
       "                                               params  split0_test_score  \\\n",
       "0   {'bootstrap': True, 'max_features': 'auto', 'm...         -43.754766   \n",
       "1   {'bootstrap': True, 'max_features': 'auto', 'm...         -43.780562   \n",
       "2   {'bootstrap': True, 'max_features': 'auto', 'm...         -43.601730   \n",
       "3   {'bootstrap': True, 'max_features': 'auto', 'm...         -43.573109   \n",
       "4   {'bootstrap': True, 'max_features': 'auto', 'm...         -42.812996   \n",
       "5   {'bootstrap': True, 'max_features': 'auto', 'm...         -42.859813   \n",
       "6   {'bootstrap': True, 'max_features': 'auto', 'm...         -42.812996   \n",
       "7   {'bootstrap': True, 'max_features': 'auto', 'm...         -42.859813   \n",
       "8   {'bootstrap': True, 'max_features': 'auto', 'm...         -42.921752   \n",
       "9   {'bootstrap': True, 'max_features': 'auto', 'm...         -42.944114   \n",
       "10  {'bootstrap': True, 'max_features': 'auto', 'm...         -42.921752   \n",
       "11  {'bootstrap': True, 'max_features': 'auto', 'm...         -42.944114   \n",
       "\n",
       "    split1_test_score  split2_test_score  split3_test_score  \\\n",
       "0          -51.424813         -49.271409         -44.290630   \n",
       "1          -51.179482         -49.040225         -44.306129   \n",
       "2          -51.545968         -49.053133         -44.259376   \n",
       "3          -51.298257         -48.658320         -44.224549   \n",
       "4          -51.362481         -48.260889         -44.235734   \n",
       "5          -51.454458         -48.083086         -44.260181   \n",
       "6          -51.362481         -48.260889         -44.235734   \n",
       "7          -51.454458         -48.083086         -44.260181   \n",
       "8          -51.622709         -48.373254         -44.516238   \n",
       "9          -51.612810         -48.293104         -44.481183   \n",
       "10         -51.622709         -48.373254         -44.516238   \n",
       "11         -51.612810         -48.293104         -44.481183   \n",
       "\n",
       "    split4_test_score  mean_test_score  std_test_score  rank_test_score  \\\n",
       "0          -50.225748       -47.793473        3.158099               12   \n",
       "1          -50.069928       -47.675265        3.046206               10   \n",
       "2          -50.231381       -47.738317        3.214240               11   \n",
       "3          -50.156090       -47.582065        3.128535                5   \n",
       "4          -50.497102       -47.433841        3.378813                3   \n",
       "5          -50.488886       -47.429285        3.373838                1   \n",
       "6          -50.497102       -47.433841        3.378813                3   \n",
       "7          -50.488886       -47.429285        3.373838                2   \n",
       "8          -50.747897       -47.636370        3.408176                9   \n",
       "9          -50.734742       -47.613190        3.400384                7   \n",
       "10         -50.747897       -47.636370        3.408176                8   \n",
       "11         -50.734742       -47.613190        3.400384                6   \n",
       "\n",
       "    split0_train_score  split1_train_score  split2_train_score  \\\n",
       "0            -6.723710           -6.475626           -6.591933   \n",
       "1            -6.693092           -6.416003           -6.505740   \n",
       "2           -10.035689           -9.578729           -9.785570   \n",
       "3            -9.988573           -9.540874           -9.755594   \n",
       "4           -16.595470          -15.689621          -15.968880   \n",
       "5           -16.543954          -15.650263          -15.958253   \n",
       "6           -16.595470          -15.689621          -15.968880   \n",
       "7           -16.543954          -15.650263          -15.958253   \n",
       "8           -23.819003          -22.597655          -23.129435   \n",
       "9           -23.769134          -22.523206          -23.106310   \n",
       "10          -23.819003          -22.597655          -23.129435   \n",
       "11          -23.769134          -22.523206          -23.106310   \n",
       "\n",
       "    split3_train_score  split4_train_score  mean_train_score  std_train_score  \n",
       "0            -6.634831           -6.389608         -6.563142         0.117918  \n",
       "1            -6.582243           -6.352917         -6.509999         0.120225  \n",
       "2            -9.912133           -9.643091         -9.791042         0.168233  \n",
       "3            -9.856742           -9.593448         -9.747046         0.165252  \n",
       "4           -16.057031          -15.862521        -16.034705         0.305947  \n",
       "5           -16.033438          -15.880497        -16.013281         0.294775  \n",
       "6           -16.057031          -15.862521        -16.034705         0.305947  \n",
       "7           -16.033438          -15.880497        -16.013281         0.294775  \n",
       "8           -23.231922          -22.821792        -23.119962         0.415450  \n",
       "9           -23.199205          -22.836354        -23.086842         0.414477  \n",
       "10          -23.231922          -22.821792        -23.119962         0.415450  \n",
       "11          -23.199205          -22.836354        -23.086842         0.414477  "
      ]
     },
     "execution_count": 53,
     "metadata": {},
     "output_type": "execute_result"
    }
   ],
   "source": [
    "cv_results"
   ]
  },
  {
   "cell_type": "code",
   "execution_count": 54,
   "metadata": {},
   "outputs": [],
   "source": [
    "best = model_cv.best_params_"
   ]
  },
  {
   "cell_type": "code",
   "execution_count": 55,
   "metadata": {},
   "outputs": [
    {
     "name": "stdout",
     "output_type": "stream",
     "text": [
      "Best parameters :  {'bootstrap': True, 'max_features': 'auto', 'min_samples_leaf': 3, 'min_samples_split': 2, 'n_estimators': 300}\n"
     ]
    }
   ],
   "source": [
    "print(\"Best parameters : \", model_cv.best_params_)"
   ]
  },
  {
   "cell_type": "code",
   "execution_count": 119,
   "metadata": {},
   "outputs": [],
   "source": [
    "best_randomforest = RandomForestRegressor(n_estimators = best['n_estimators'], min_samples_leaf = best['min_samples_leaf'], \n",
    "                                         min_samples_split = best['min_samples_split']\n",
    "                                         )"
   ]
  },
  {
   "cell_type": "code",
   "execution_count": 120,
   "metadata": {},
   "outputs": [
    {
     "data": {
      "text/plain": [
       "RandomForestRegressor(min_samples_leaf=3, n_estimators=300)"
      ]
     },
     "execution_count": 120,
     "metadata": {},
     "output_type": "execute_result"
    }
   ],
   "source": [
    "best_randomforest.fit(X_train, y_train)"
   ]
  },
  {
   "cell_type": "code",
   "execution_count": null,
   "metadata": {},
   "outputs": [],
   "source": []
  },
  {
   "cell_type": "code",
   "execution_count": null,
   "metadata": {},
   "outputs": [],
   "source": []
  },
  {
   "cell_type": "markdown",
   "metadata": {},
   "source": [
    "## Model 2: XGBoost algorithm for regression"
   ]
  },
  {
   "cell_type": "code",
   "execution_count": 59,
   "metadata": {},
   "outputs": [],
   "source": [
    "import xgboost as xgb"
   ]
  },
  {
   "cell_type": "code",
   "execution_count": null,
   "metadata": {},
   "outputs": [],
   "source": []
  },
  {
   "cell_type": "code",
   "execution_count": 60,
   "metadata": {},
   "outputs": [],
   "source": [
    "xgboost_model = xgb.XGBRegressor()"
   ]
  },
  {
   "cell_type": "code",
   "execution_count": 61,
   "metadata": {},
   "outputs": [
    {
     "name": "stderr",
     "output_type": "stream",
     "text": [
      "D:\\Anaconda3\\envs\\ML_omscs\\lib\\site-packages\\sklearn\\model_selection\\_split.py:293: FutureWarning: Setting a random_state has no effect since shuffle is False. This will raise an error in 0.24. You should leave random_state to its default (None), or set shuffle=True.\n",
      "  warnings.warn(\n"
     ]
    }
   ],
   "source": [
    "xgboost_model = xgb.XGBRegressor(random_state = 42, n_jobs = -1)\n",
    "folds = KFold(n_splits = 5, shuffle = False, random_state = 42)\n",
    "\n",
    "hyper_params = {'n_estimators': [1000, 1500],\n",
    "                'max_depth' : [1, 3, 5],\n",
    "                'eta': [0.1, 0.01] }\n",
    "\n",
    "model_cv_xgb = GridSearchCV(estimator = xgboost_model, \n",
    "                        param_grid = hyper_params, \n",
    "                        scoring= 'neg_mean_squared_error', \n",
    "                        cv = folds, \n",
    "                        verbose = 1,\n",
    "                        return_train_score=True)"
   ]
  },
  {
   "cell_type": "code",
   "execution_count": 62,
   "metadata": {},
   "outputs": [
    {
     "name": "stdout",
     "output_type": "stream",
     "text": [
      "Fitting 5 folds for each of 12 candidates, totalling 60 fits\n"
     ]
    },
    {
     "name": "stderr",
     "output_type": "stream",
     "text": [
      "[Parallel(n_jobs=1)]: Using backend SequentialBackend with 1 concurrent workers.\n",
      "[Parallel(n_jobs=1)]: Done  60 out of  60 | elapsed:  1.7min finished\n"
     ]
    },
    {
     "data": {
      "text/plain": [
       "GridSearchCV(cv=KFold(n_splits=5, random_state=42, shuffle=False),\n",
       "             estimator=XGBRegressor(base_score=None, booster=None,\n",
       "                                    colsample_bylevel=None,\n",
       "                                    colsample_bynode=None,\n",
       "                                    colsample_bytree=None,\n",
       "                                    enable_categorical=False, gamma=None,\n",
       "                                    gpu_id=None, importance_type=None,\n",
       "                                    interaction_constraints=None,\n",
       "                                    learning_rate=None, max_delta_step=None,\n",
       "                                    max_depth=None, min_child_weigh...\n",
       "                                    n_estimators=100, n_jobs=-1,\n",
       "                                    num_parallel_tree=None, predictor=None,\n",
       "                                    random_state=42, reg_alpha=None,\n",
       "                                    reg_lambda=None, scale_pos_weight=None,\n",
       "                                    subsample=None, tree_method=None,\n",
       "                                    validate_parameters=None, verbosity=None),\n",
       "             param_grid={'eta': [0.1, 0.01], 'max_depth': [1, 3, 5],\n",
       "                         'n_estimators': [1000, 1500]},\n",
       "             return_train_score=True, scoring='neg_mean_squared_error',\n",
       "             verbose=1)"
      ]
     },
     "execution_count": 62,
     "metadata": {},
     "output_type": "execute_result"
    }
   ],
   "source": [
    "model_cv_xgb.fit(X_train, y_train)"
   ]
  },
  {
   "cell_type": "code",
   "execution_count": null,
   "metadata": {},
   "outputs": [],
   "source": []
  },
  {
   "cell_type": "code",
   "execution_count": 63,
   "metadata": {
    "scrolled": false
   },
   "outputs": [
    {
     "data": {
      "text/html": [
       "<div>\n",
       "<style scoped>\n",
       "    .dataframe tbody tr th:only-of-type {\n",
       "        vertical-align: middle;\n",
       "    }\n",
       "\n",
       "    .dataframe tbody tr th {\n",
       "        vertical-align: top;\n",
       "    }\n",
       "\n",
       "    .dataframe thead th {\n",
       "        text-align: right;\n",
       "    }\n",
       "</style>\n",
       "<table border=\"1\" class=\"dataframe\">\n",
       "  <thead>\n",
       "    <tr style=\"text-align: right;\">\n",
       "      <th></th>\n",
       "      <th>mean_fit_time</th>\n",
       "      <th>std_fit_time</th>\n",
       "      <th>mean_score_time</th>\n",
       "      <th>std_score_time</th>\n",
       "      <th>param_eta</th>\n",
       "      <th>param_max_depth</th>\n",
       "      <th>param_n_estimators</th>\n",
       "      <th>params</th>\n",
       "      <th>split0_test_score</th>\n",
       "      <th>split1_test_score</th>\n",
       "      <th>split2_test_score</th>\n",
       "      <th>split3_test_score</th>\n",
       "      <th>split4_test_score</th>\n",
       "      <th>mean_test_score</th>\n",
       "      <th>std_test_score</th>\n",
       "      <th>rank_test_score</th>\n",
       "      <th>split0_train_score</th>\n",
       "      <th>split1_train_score</th>\n",
       "      <th>split2_train_score</th>\n",
       "      <th>split3_train_score</th>\n",
       "      <th>split4_train_score</th>\n",
       "      <th>mean_train_score</th>\n",
       "      <th>std_train_score</th>\n",
       "    </tr>\n",
       "  </thead>\n",
       "  <tbody>\n",
       "    <tr>\n",
       "      <th>0</th>\n",
       "      <td>0.599552</td>\n",
       "      <td>0.018967</td>\n",
       "      <td>0.001753</td>\n",
       "      <td>0.002182</td>\n",
       "      <td>0.1</td>\n",
       "      <td>1</td>\n",
       "      <td>1000</td>\n",
       "      <td>{'eta': 0.1, 'max_depth': 1, 'n_estimators': 1...</td>\n",
       "      <td>-43.589074</td>\n",
       "      <td>-51.958595</td>\n",
       "      <td>-48.498660</td>\n",
       "      <td>-45.324729</td>\n",
       "      <td>-53.940260</td>\n",
       "      <td>-48.662264</td>\n",
       "      <td>3.889118</td>\n",
       "      <td>6</td>\n",
       "      <td>-45.543032</td>\n",
       "      <td>-43.650078</td>\n",
       "      <td>-45.150922</td>\n",
       "      <td>-45.315387</td>\n",
       "      <td>-43.352412</td>\n",
       "      <td>-44.602366</td>\n",
       "      <td>0.912513</td>\n",
       "    </tr>\n",
       "    <tr>\n",
       "      <th>1</th>\n",
       "      <td>0.887948</td>\n",
       "      <td>0.022673</td>\n",
       "      <td>0.006250</td>\n",
       "      <td>0.007654</td>\n",
       "      <td>0.1</td>\n",
       "      <td>1</td>\n",
       "      <td>1500</td>\n",
       "      <td>{'eta': 0.1, 'max_depth': 1, 'n_estimators': 1...</td>\n",
       "      <td>-43.794797</td>\n",
       "      <td>-51.795324</td>\n",
       "      <td>-48.510265</td>\n",
       "      <td>-45.295575</td>\n",
       "      <td>-53.842939</td>\n",
       "      <td>-48.647780</td>\n",
       "      <td>3.786934</td>\n",
       "      <td>5</td>\n",
       "      <td>-44.925365</td>\n",
       "      <td>-43.077316</td>\n",
       "      <td>-44.570863</td>\n",
       "      <td>-44.740414</td>\n",
       "      <td>-42.795029</td>\n",
       "      <td>-44.021797</td>\n",
       "      <td>0.897922</td>\n",
       "    </tr>\n",
       "    <tr>\n",
       "      <th>2</th>\n",
       "      <td>1.323917</td>\n",
       "      <td>0.006142</td>\n",
       "      <td>0.003125</td>\n",
       "      <td>0.006250</td>\n",
       "      <td>0.1</td>\n",
       "      <td>3</td>\n",
       "      <td>1000</td>\n",
       "      <td>{'eta': 0.1, 'max_depth': 3, 'n_estimators': 1...</td>\n",
       "      <td>-46.627554</td>\n",
       "      <td>-52.183281</td>\n",
       "      <td>-51.708432</td>\n",
       "      <td>-46.048479</td>\n",
       "      <td>-53.495339</td>\n",
       "      <td>-50.012617</td>\n",
       "      <td>3.062351</td>\n",
       "      <td>8</td>\n",
       "      <td>-23.016547</td>\n",
       "      <td>-22.178156</td>\n",
       "      <td>-22.357129</td>\n",
       "      <td>-22.238310</td>\n",
       "      <td>-22.710342</td>\n",
       "      <td>-22.500097</td>\n",
       "      <td>0.317346</td>\n",
       "    </tr>\n",
       "    <tr>\n",
       "      <th>3</th>\n",
       "      <td>1.952797</td>\n",
       "      <td>0.015309</td>\n",
       "      <td>0.009375</td>\n",
       "      <td>0.007654</td>\n",
       "      <td>0.1</td>\n",
       "      <td>3</td>\n",
       "      <td>1500</td>\n",
       "      <td>{'eta': 0.1, 'max_depth': 3, 'n_estimators': 1...</td>\n",
       "      <td>-47.743027</td>\n",
       "      <td>-53.416793</td>\n",
       "      <td>-52.931155</td>\n",
       "      <td>-47.062037</td>\n",
       "      <td>-54.434608</td>\n",
       "      <td>-51.117524</td>\n",
       "      <td>3.079388</td>\n",
       "      <td>10</td>\n",
       "      <td>-18.422633</td>\n",
       "      <td>-17.895853</td>\n",
       "      <td>-18.195475</td>\n",
       "      <td>-17.927212</td>\n",
       "      <td>-18.239915</td>\n",
       "      <td>-18.136218</td>\n",
       "      <td>0.198875</td>\n",
       "    </tr>\n",
       "    <tr>\n",
       "      <th>4</th>\n",
       "      <td>2.198665</td>\n",
       "      <td>0.014071</td>\n",
       "      <td>0.015626</td>\n",
       "      <td>0.000002</td>\n",
       "      <td>0.1</td>\n",
       "      <td>5</td>\n",
       "      <td>1000</td>\n",
       "      <td>{'eta': 0.1, 'max_depth': 5, 'n_estimators': 1...</td>\n",
       "      <td>-47.057704</td>\n",
       "      <td>-55.535752</td>\n",
       "      <td>-54.646940</td>\n",
       "      <td>-47.705377</td>\n",
       "      <td>-53.541717</td>\n",
       "      <td>-51.697498</td>\n",
       "      <td>3.586008</td>\n",
       "      <td>11</td>\n",
       "      <td>-6.287969</td>\n",
       "      <td>-6.168110</td>\n",
       "      <td>-6.084225</td>\n",
       "      <td>-5.671240</td>\n",
       "      <td>-5.944606</td>\n",
       "      <td>-6.031230</td>\n",
       "      <td>0.211923</td>\n",
       "    </tr>\n",
       "    <tr>\n",
       "      <th>5</th>\n",
       "      <td>3.404759</td>\n",
       "      <td>0.117728</td>\n",
       "      <td>0.012374</td>\n",
       "      <td>0.006192</td>\n",
       "      <td>0.1</td>\n",
       "      <td>5</td>\n",
       "      <td>1500</td>\n",
       "      <td>{'eta': 0.1, 'max_depth': 5, 'n_estimators': 1...</td>\n",
       "      <td>-47.786847</td>\n",
       "      <td>-56.835154</td>\n",
       "      <td>-56.204671</td>\n",
       "      <td>-48.780885</td>\n",
       "      <td>-54.630165</td>\n",
       "      <td>-52.847545</td>\n",
       "      <td>3.807819</td>\n",
       "      <td>12</td>\n",
       "      <td>-3.107706</td>\n",
       "      <td>-3.029765</td>\n",
       "      <td>-3.014445</td>\n",
       "      <td>-2.826091</td>\n",
       "      <td>-2.943844</td>\n",
       "      <td>-2.984370</td>\n",
       "      <td>0.094733</td>\n",
       "    </tr>\n",
       "    <tr>\n",
       "      <th>6</th>\n",
       "      <td>0.585721</td>\n",
       "      <td>0.019928</td>\n",
       "      <td>0.006250</td>\n",
       "      <td>0.007655</td>\n",
       "      <td>0.01</td>\n",
       "      <td>1</td>\n",
       "      <td>1000</td>\n",
       "      <td>{'eta': 0.01, 'max_depth': 1, 'n_estimators': ...</td>\n",
       "      <td>-43.645272</td>\n",
       "      <td>-54.109271</td>\n",
       "      <td>-50.240200</td>\n",
       "      <td>-47.058103</td>\n",
       "      <td>-55.412710</td>\n",
       "      <td>-50.093111</td>\n",
       "      <td>4.364292</td>\n",
       "      <td>9</td>\n",
       "      <td>-50.044062</td>\n",
       "      <td>-47.751182</td>\n",
       "      <td>-48.920965</td>\n",
       "      <td>-49.304534</td>\n",
       "      <td>-47.300427</td>\n",
       "      <td>-48.664234</td>\n",
       "      <td>1.007319</td>\n",
       "    </tr>\n",
       "    <tr>\n",
       "      <th>7</th>\n",
       "      <td>0.893726</td>\n",
       "      <td>0.018221</td>\n",
       "      <td>0.009374</td>\n",
       "      <td>0.007654</td>\n",
       "      <td>0.01</td>\n",
       "      <td>1</td>\n",
       "      <td>1500</td>\n",
       "      <td>{'eta': 0.01, 'max_depth': 1, 'n_estimators': ...</td>\n",
       "      <td>-43.520303</td>\n",
       "      <td>-53.502546</td>\n",
       "      <td>-49.531923</td>\n",
       "      <td>-46.607665</td>\n",
       "      <td>-55.114582</td>\n",
       "      <td>-49.655404</td>\n",
       "      <td>4.278938</td>\n",
       "      <td>7</td>\n",
       "      <td>-49.155443</td>\n",
       "      <td>-46.930627</td>\n",
       "      <td>-48.159944</td>\n",
       "      <td>-48.468844</td>\n",
       "      <td>-46.449624</td>\n",
       "      <td>-47.832896</td>\n",
       "      <td>0.998805</td>\n",
       "    </tr>\n",
       "    <tr>\n",
       "      <th>8</th>\n",
       "      <td>1.315519</td>\n",
       "      <td>0.011780</td>\n",
       "      <td>0.003125</td>\n",
       "      <td>0.006249</td>\n",
       "      <td>0.01</td>\n",
       "      <td>3</td>\n",
       "      <td>1000</td>\n",
       "      <td>{'eta': 0.01, 'max_depth': 3, 'n_estimators': ...</td>\n",
       "      <td>-43.852360</td>\n",
       "      <td>-51.320495</td>\n",
       "      <td>-47.927969</td>\n",
       "      <td>-44.681029</td>\n",
       "      <td>-52.706119</td>\n",
       "      <td>-48.097594</td>\n",
       "      <td>3.502836</td>\n",
       "      <td>3</td>\n",
       "      <td>-40.616066</td>\n",
       "      <td>-38.740596</td>\n",
       "      <td>-40.436280</td>\n",
       "      <td>-40.432322</td>\n",
       "      <td>-38.746607</td>\n",
       "      <td>-39.794374</td>\n",
       "      <td>0.860519</td>\n",
       "    </tr>\n",
       "    <tr>\n",
       "      <th>9</th>\n",
       "      <td>1.934267</td>\n",
       "      <td>0.007565</td>\n",
       "      <td>0.012493</td>\n",
       "      <td>0.006247</td>\n",
       "      <td>0.01</td>\n",
       "      <td>3</td>\n",
       "      <td>1500</td>\n",
       "      <td>{'eta': 0.01, 'max_depth': 3, 'n_estimators': ...</td>\n",
       "      <td>-44.295449</td>\n",
       "      <td>-50.943631</td>\n",
       "      <td>-47.762161</td>\n",
       "      <td>-44.460444</td>\n",
       "      <td>-52.315262</td>\n",
       "      <td>-47.955389</td>\n",
       "      <td>3.273690</td>\n",
       "      <td>1</td>\n",
       "      <td>-38.783611</td>\n",
       "      <td>-36.849377</td>\n",
       "      <td>-38.455342</td>\n",
       "      <td>-38.471192</td>\n",
       "      <td>-37.067195</td>\n",
       "      <td>-37.925343</td>\n",
       "      <td>0.801198</td>\n",
       "    </tr>\n",
       "    <tr>\n",
       "      <th>10</th>\n",
       "      <td>2.147178</td>\n",
       "      <td>0.018667</td>\n",
       "      <td>0.012499</td>\n",
       "      <td>0.006249</td>\n",
       "      <td>0.01</td>\n",
       "      <td>5</td>\n",
       "      <td>1000</td>\n",
       "      <td>{'eta': 0.01, 'max_depth': 5, 'n_estimators': ...</td>\n",
       "      <td>-44.044705</td>\n",
       "      <td>-50.937189</td>\n",
       "      <td>-48.820468</td>\n",
       "      <td>-44.511466</td>\n",
       "      <td>-51.657336</td>\n",
       "      <td>-47.994233</td>\n",
       "      <td>3.177748</td>\n",
       "      <td>2</td>\n",
       "      <td>-32.222100</td>\n",
       "      <td>-31.405848</td>\n",
       "      <td>-31.599214</td>\n",
       "      <td>-31.621626</td>\n",
       "      <td>-30.672586</td>\n",
       "      <td>-31.504275</td>\n",
       "      <td>0.497886</td>\n",
       "    </tr>\n",
       "    <tr>\n",
       "      <th>11</th>\n",
       "      <td>3.211681</td>\n",
       "      <td>0.038951</td>\n",
       "      <td>0.015623</td>\n",
       "      <td>0.000001</td>\n",
       "      <td>0.01</td>\n",
       "      <td>5</td>\n",
       "      <td>1500</td>\n",
       "      <td>{'eta': 0.01, 'max_depth': 5, 'n_estimators': ...</td>\n",
       "      <td>-44.361003</td>\n",
       "      <td>-50.809708</td>\n",
       "      <td>-49.555856</td>\n",
       "      <td>-44.548202</td>\n",
       "      <td>-51.494785</td>\n",
       "      <td>-48.153911</td>\n",
       "      <td>3.084394</td>\n",
       "      <td>4</td>\n",
       "      <td>-28.839904</td>\n",
       "      <td>-28.152529</td>\n",
       "      <td>-28.353588</td>\n",
       "      <td>-27.812729</td>\n",
       "      <td>-27.895638</td>\n",
       "      <td>-28.210878</td>\n",
       "      <td>0.368061</td>\n",
       "    </tr>\n",
       "  </tbody>\n",
       "</table>\n",
       "</div>"
      ],
      "text/plain": [
       "    mean_fit_time  std_fit_time  mean_score_time  std_score_time param_eta  \\\n",
       "0        0.599552      0.018967         0.001753        0.002182       0.1   \n",
       "1        0.887948      0.022673         0.006250        0.007654       0.1   \n",
       "2        1.323917      0.006142         0.003125        0.006250       0.1   \n",
       "3        1.952797      0.015309         0.009375        0.007654       0.1   \n",
       "4        2.198665      0.014071         0.015626        0.000002       0.1   \n",
       "5        3.404759      0.117728         0.012374        0.006192       0.1   \n",
       "6        0.585721      0.019928         0.006250        0.007655      0.01   \n",
       "7        0.893726      0.018221         0.009374        0.007654      0.01   \n",
       "8        1.315519      0.011780         0.003125        0.006249      0.01   \n",
       "9        1.934267      0.007565         0.012493        0.006247      0.01   \n",
       "10       2.147178      0.018667         0.012499        0.006249      0.01   \n",
       "11       3.211681      0.038951         0.015623        0.000001      0.01   \n",
       "\n",
       "   param_max_depth param_n_estimators  \\\n",
       "0                1               1000   \n",
       "1                1               1500   \n",
       "2                3               1000   \n",
       "3                3               1500   \n",
       "4                5               1000   \n",
       "5                5               1500   \n",
       "6                1               1000   \n",
       "7                1               1500   \n",
       "8                3               1000   \n",
       "9                3               1500   \n",
       "10               5               1000   \n",
       "11               5               1500   \n",
       "\n",
       "                                               params  split0_test_score  \\\n",
       "0   {'eta': 0.1, 'max_depth': 1, 'n_estimators': 1...         -43.589074   \n",
       "1   {'eta': 0.1, 'max_depth': 1, 'n_estimators': 1...         -43.794797   \n",
       "2   {'eta': 0.1, 'max_depth': 3, 'n_estimators': 1...         -46.627554   \n",
       "3   {'eta': 0.1, 'max_depth': 3, 'n_estimators': 1...         -47.743027   \n",
       "4   {'eta': 0.1, 'max_depth': 5, 'n_estimators': 1...         -47.057704   \n",
       "5   {'eta': 0.1, 'max_depth': 5, 'n_estimators': 1...         -47.786847   \n",
       "6   {'eta': 0.01, 'max_depth': 1, 'n_estimators': ...         -43.645272   \n",
       "7   {'eta': 0.01, 'max_depth': 1, 'n_estimators': ...         -43.520303   \n",
       "8   {'eta': 0.01, 'max_depth': 3, 'n_estimators': ...         -43.852360   \n",
       "9   {'eta': 0.01, 'max_depth': 3, 'n_estimators': ...         -44.295449   \n",
       "10  {'eta': 0.01, 'max_depth': 5, 'n_estimators': ...         -44.044705   \n",
       "11  {'eta': 0.01, 'max_depth': 5, 'n_estimators': ...         -44.361003   \n",
       "\n",
       "    split1_test_score  split2_test_score  split3_test_score  \\\n",
       "0          -51.958595         -48.498660         -45.324729   \n",
       "1          -51.795324         -48.510265         -45.295575   \n",
       "2          -52.183281         -51.708432         -46.048479   \n",
       "3          -53.416793         -52.931155         -47.062037   \n",
       "4          -55.535752         -54.646940         -47.705377   \n",
       "5          -56.835154         -56.204671         -48.780885   \n",
       "6          -54.109271         -50.240200         -47.058103   \n",
       "7          -53.502546         -49.531923         -46.607665   \n",
       "8          -51.320495         -47.927969         -44.681029   \n",
       "9          -50.943631         -47.762161         -44.460444   \n",
       "10         -50.937189         -48.820468         -44.511466   \n",
       "11         -50.809708         -49.555856         -44.548202   \n",
       "\n",
       "    split4_test_score  mean_test_score  std_test_score  rank_test_score  \\\n",
       "0          -53.940260       -48.662264        3.889118                6   \n",
       "1          -53.842939       -48.647780        3.786934                5   \n",
       "2          -53.495339       -50.012617        3.062351                8   \n",
       "3          -54.434608       -51.117524        3.079388               10   \n",
       "4          -53.541717       -51.697498        3.586008               11   \n",
       "5          -54.630165       -52.847545        3.807819               12   \n",
       "6          -55.412710       -50.093111        4.364292                9   \n",
       "7          -55.114582       -49.655404        4.278938                7   \n",
       "8          -52.706119       -48.097594        3.502836                3   \n",
       "9          -52.315262       -47.955389        3.273690                1   \n",
       "10         -51.657336       -47.994233        3.177748                2   \n",
       "11         -51.494785       -48.153911        3.084394                4   \n",
       "\n",
       "    split0_train_score  split1_train_score  split2_train_score  \\\n",
       "0           -45.543032          -43.650078          -45.150922   \n",
       "1           -44.925365          -43.077316          -44.570863   \n",
       "2           -23.016547          -22.178156          -22.357129   \n",
       "3           -18.422633          -17.895853          -18.195475   \n",
       "4            -6.287969           -6.168110           -6.084225   \n",
       "5            -3.107706           -3.029765           -3.014445   \n",
       "6           -50.044062          -47.751182          -48.920965   \n",
       "7           -49.155443          -46.930627          -48.159944   \n",
       "8           -40.616066          -38.740596          -40.436280   \n",
       "9           -38.783611          -36.849377          -38.455342   \n",
       "10          -32.222100          -31.405848          -31.599214   \n",
       "11          -28.839904          -28.152529          -28.353588   \n",
       "\n",
       "    split3_train_score  split4_train_score  mean_train_score  std_train_score  \n",
       "0           -45.315387          -43.352412        -44.602366         0.912513  \n",
       "1           -44.740414          -42.795029        -44.021797         0.897922  \n",
       "2           -22.238310          -22.710342        -22.500097         0.317346  \n",
       "3           -17.927212          -18.239915        -18.136218         0.198875  \n",
       "4            -5.671240           -5.944606         -6.031230         0.211923  \n",
       "5            -2.826091           -2.943844         -2.984370         0.094733  \n",
       "6           -49.304534          -47.300427        -48.664234         1.007319  \n",
       "7           -48.468844          -46.449624        -47.832896         0.998805  \n",
       "8           -40.432322          -38.746607        -39.794374         0.860519  \n",
       "9           -38.471192          -37.067195        -37.925343         0.801198  \n",
       "10          -31.621626          -30.672586        -31.504275         0.497886  \n",
       "11          -27.812729          -27.895638        -28.210878         0.368061  "
      ]
     },
     "execution_count": 63,
     "metadata": {},
     "output_type": "execute_result"
    }
   ],
   "source": [
    "cv_results_xgb = pd.DataFrame(model_cv_xgb.cv_results_)\n",
    "cv_results_xgb"
   ]
  },
  {
   "cell_type": "code",
   "execution_count": null,
   "metadata": {},
   "outputs": [],
   "source": []
  },
  {
   "cell_type": "code",
   "execution_count": 64,
   "metadata": {},
   "outputs": [
    {
     "data": {
      "text/plain": [
       "{'eta': 0.01, 'max_depth': 3, 'n_estimators': 1500}"
      ]
     },
     "execution_count": 64,
     "metadata": {},
     "output_type": "execute_result"
    }
   ],
   "source": [
    "best_xgb = model_cv_xgb.best_params_\n",
    "best_xgb"
   ]
  },
  {
   "cell_type": "code",
   "execution_count": 65,
   "metadata": {},
   "outputs": [
    {
     "name": "stdout",
     "output_type": "stream",
     "text": [
      "Best parameters :  {'eta': 0.01, 'max_depth': 3, 'n_estimators': 1500}\n"
     ]
    }
   ],
   "source": [
    "print(\"Best parameters : \", model_cv_xgb.best_params_)"
   ]
  },
  {
   "cell_type": "code",
   "execution_count": 123,
   "metadata": {},
   "outputs": [],
   "source": [
    "best_xgboost = xgb.XGBRegressor(n_estimators = best_xgb['n_estimators'], eta = best_xgb['eta'], \n",
    "                                         max_depth = best_xgb['max_depth']\n",
    "                                         )"
   ]
  },
  {
   "cell_type": "code",
   "execution_count": 124,
   "metadata": {},
   "outputs": [
    {
     "data": {
      "text/plain": [
       "XGBRegressor(base_score=0.5, booster='gbtree', colsample_bylevel=1,\n",
       "             colsample_bynode=1, colsample_bytree=1, enable_categorical=False,\n",
       "             eta=0.01, gamma=0, gpu_id=-1, importance_type=None,\n",
       "             interaction_constraints='', learning_rate=0.00999999978,\n",
       "             max_delta_step=0, max_depth=3, min_child_weight=1, missing=nan,\n",
       "             monotone_constraints='()', n_estimators=1500, n_jobs=8,\n",
       "             num_parallel_tree=1, predictor='auto', random_state=0, reg_alpha=0,\n",
       "             reg_lambda=1, scale_pos_weight=1, subsample=1, tree_method='exact',\n",
       "             validate_parameters=1, verbosity=None)"
      ]
     },
     "execution_count": 124,
     "metadata": {},
     "output_type": "execute_result"
    }
   ],
   "source": [
    "best_xgboost.fit(X_train, y_train)"
   ]
  },
  {
   "cell_type": "code",
   "execution_count": null,
   "metadata": {},
   "outputs": [],
   "source": []
  },
  {
   "cell_type": "markdown",
   "metadata": {},
   "source": [
    "## Model 3: Linear Regression algorithm"
   ]
  },
  {
   "cell_type": "code",
   "execution_count": 69,
   "metadata": {},
   "outputs": [],
   "source": [
    "from sklearn.linear_model import LinearRegression\n"
   ]
  },
  {
   "cell_type": "code",
   "execution_count": 88,
   "metadata": {},
   "outputs": [],
   "source": [
    "lr_model = LinearRegression(n_jobs = -1)"
   ]
  },
  {
   "cell_type": "code",
   "execution_count": 89,
   "metadata": {},
   "outputs": [
    {
     "data": {
      "text/plain": [
       "LinearRegression(n_jobs=-1)"
      ]
     },
     "execution_count": 89,
     "metadata": {},
     "output_type": "execute_result"
    }
   ],
   "source": [
    "lr_model.fit(X_train,y_train)"
   ]
  },
  {
   "cell_type": "code",
   "execution_count": null,
   "metadata": {},
   "outputs": [],
   "source": []
  },
  {
   "cell_type": "code",
   "execution_count": 84,
   "metadata": {},
   "outputs": [
    {
     "data": {
      "text/plain": [
       "LinearRegression(n_jobs=-1)"
      ]
     },
     "execution_count": 84,
     "metadata": {},
     "output_type": "execute_result"
    }
   ],
   "source": [
    "best_randomforest\n",
    "\n",
    "best_xgboost\n",
    "\n",
    "lr_model"
   ]
  },
  {
   "cell_type": "code",
   "execution_count": null,
   "metadata": {},
   "outputs": [],
   "source": []
  },
  {
   "cell_type": "markdown",
   "metadata": {},
   "source": [
    "## 4. Performance on unseen test data: Evaluation of the ML models"
   ]
  },
  {
   "cell_type": "code",
   "execution_count": 121,
   "metadata": {},
   "outputs": [
    {
     "name": "stdout",
     "output_type": "stream",
     "text": [
      "Random forest model error on test data : \n",
      "MSE:  48.17650176666321\n"
     ]
    }
   ],
   "source": [
    "y_pred_RF = best_randomforest.predict(X_test)\n",
    "print(\"Random forest model error on test data : \")\n",
    "\n",
    "print('MSE: ', mean_squared_error(y_test, y_pred_RF))"
   ]
  },
  {
   "cell_type": "code",
   "execution_count": 125,
   "metadata": {},
   "outputs": [
    {
     "name": "stdout",
     "output_type": "stream",
     "text": [
      "XGBoost model error on test data : \n",
      "MSE:  48.79954799096252\n"
     ]
    }
   ],
   "source": [
    "y_pred_XG = best_xgboost.predict(X_test)\n",
    "print(\"XGBoost model error on test data : \")\n",
    "\n",
    "print('MSE: ', mean_squared_error(y_test, y_pred_XG))"
   ]
  },
  {
   "cell_type": "code",
   "execution_count": 126,
   "metadata": {},
   "outputs": [
    {
     "name": "stdout",
     "output_type": "stream",
     "text": [
      "Linear regression model error on test data : \n",
      "MSE:  55.03999697878123\n"
     ]
    }
   ],
   "source": [
    "y_pred_LR = lr_model.predict(X_test)\n",
    "print(\"Linear regression model error on test data : \")\n",
    "\n",
    "print('MSE: ', mean_squared_error(y_test, y_pred_LR))"
   ]
  },
  {
   "cell_type": "code",
   "execution_count": null,
   "metadata": {},
   "outputs": [],
   "source": []
  },
  {
   "cell_type": "code",
   "execution_count": 127,
   "metadata": {},
   "outputs": [
    {
     "data": {
      "image/png": "[encoded data removed]",
      "text/plain": [
       "<Figure size 504x504 with 1 Axes>"
      ]
     },
     "metadata": {
      "needs_background": "light"
     },
     "output_type": "display_data"
    }
   ],
   "source": [
    "\n",
    "# mse error values\n",
    "mse_rf = mean_squared_error(y_test, y_pred_RF)\n",
    "mse_xgb = mean_squared_error(y_test, y_pred_XG)\n",
    "mse_lr = mean_squared_error(y_test, y_pred_LR)\n",
    "\n",
    "# Position of bars on x-axis\n",
    "ind = ['RF' , 'XGB' , 'LR']\n",
    "\n",
    "# Figure size\n",
    "plt.figure(figsize=(7,7))\n",
    "\n",
    "# Plotting\n",
    "plt.bar(ind[0], mse_rf , width, label='mse_rf')\n",
    "plt.bar(ind[1], mse_xgb, width, label='mse_xgb')\n",
    "plt.bar(ind[2], mse_lr, width, label='mse_lr')\n",
    "\n",
    "plt.xlabel('ML models')\n",
    "plt.ylabel('MSE error (lower is better)')\n",
    "plt.title('MSE values for three different models')\n",
    "\n",
    "# Show the legend in the graph\n",
    "plt.legend(loc='best')\n",
    "plt.show()"
   ]
  },
  {
   "cell_type": "code",
   "execution_count": null,
   "metadata": {},
   "outputs": [],
   "source": []
  },
  {
   "cell_type": "markdown",
   "metadata": {},
   "source": [
    "### 4.1 Choosing the best model using hypothesis testing"
   ]
  },
  {
   "cell_type": "code",
   "execution_count": null,
   "metadata": {},
   "outputs": [],
   "source": []
  },
  {
   "cell_type": "code",
   "execution_count": 111,
   "metadata": {},
   "outputs": [
    {
     "data": {
      "text/plain": [
       "(9099, 11)"
      ]
     },
     "execution_count": 111,
     "metadata": {},
     "output_type": "execute_result"
    }
   ],
   "source": [
    "# create X and y arrays for the hypothesis testing\n",
    "X = np.concatenate((X_train, X_test), axis = 0)\n",
    "\n",
    "X.shape"
   ]
  },
  {
   "cell_type": "code",
   "execution_count": 102,
   "metadata": {},
   "outputs": [
    {
     "data": {
      "text/plain": [
       "(9099,)"
      ]
     },
     "execution_count": 102,
     "metadata": {},
     "output_type": "execute_result"
    }
   ],
   "source": [
    "y = np.concatenate((y_train, y_test), axis = 0)\n",
    "\n",
    "y.shape"
   ]
  },
  {
   "cell_type": "code",
   "execution_count": null,
   "metadata": {},
   "outputs": [],
   "source": []
  },
  {
   "cell_type": "code",
   "execution_count": 103,
   "metadata": {},
   "outputs": [],
   "source": [
    "from mlxtend.evaluate import paired_ttest_5x2cv"
   ]
  },
  {
   "cell_type": "markdown",
   "metadata": {},
   "source": [
    "#### Before the test, we will set the significant threshold alpha = 0.05.\n",
    "We will perform a **Paired student's t-test with a 5x2 Cross Validation**. This means that we will use a two-fold CV with five repeats and then use the Paired t-test to test if the performance of the two models is statistically significant or not."
   ]
  },
  {
   "cell_type": "markdown",
   "metadata": {},
   "source": [
    "**Null hypothesis**: The average performance (mean squared error) of the Random Forest model and the XG Boost model are identical.\n",
    "\n",
    "**Alternate hypothesis**: The average performance of the two models are not identical and there is a statistically significant difference in their performance"
   ]
  },
  {
   "cell_type": "code",
   "execution_count": null,
   "metadata": {},
   "outputs": [],
   "source": []
  },
  {
   "cell_type": "code",
   "execution_count": 112,
   "metadata": {},
   "outputs": [],
   "source": [
    "# significance threshold\n",
    "alpha = 0.05"
   ]
  },
  {
   "cell_type": "code",
   "execution_count": 104,
   "metadata": {},
   "outputs": [],
   "source": [
    "t, p = paired_ttest_5x2cv(estimator1=best_randomforest, estimator2=best_xgboost, X=X, y=y, scoring='neg_mean_squared_error', random_seed=42)"
   ]
  },
  {
   "cell_type": "code",
   "execution_count": 105,
   "metadata": {},
   "outputs": [
    {
     "name": "stdout",
     "output_type": "stream",
     "text": [
      "P-value: 0.450, t-Statistic: 0.820\n"
     ]
    }
   ],
   "source": [
    "print('P-value: %.3f, t-Statistic: %.3f' % (p, t))"
   ]
  },
  {
   "cell_type": "code",
   "execution_count": 107,
   "metadata": {},
   "outputs": [
    {
     "name": "stdout",
     "output_type": "stream",
     "text": [
      "P-value is greater than or equal to alpha. Hence, we cannot reject the Null hypothesis\n"
     ]
    }
   ],
   "source": [
    "if p < alpha:\n",
    "    print(\"P-value is less than alpha. Hence, we can reject the Null hypothesis and choose the Alternate hypothesis\")\n",
    "else:\n",
    "    print(\"P-value is greater than or equal to alpha. Hence, we cannot reject the Null hypothesis\")"
   ]
  },
  {
   "cell_type": "markdown",
   "metadata": {},
   "source": [
    "From the above P-value, it is clear that the mean performance of the two models is most likely similar and we cannot choose one over the other with statistical confidence."
   ]
  },
  {
   "cell_type": "code",
   "execution_count": null,
   "metadata": {},
   "outputs": [],
   "source": []
  },
  {
   "cell_type": "markdown",
   "metadata": {},
   "source": [
    "### Hence, both the Random forest and the XG Boost models perform equally well on this dataset"
   ]
  },
  {
   "cell_type": "code",
   "execution_count": null,
   "metadata": {},
   "outputs": [],
   "source": []
  }
 ],
 "metadata": {
  "kernelspec": {
   "display_name": "Python 3",
   "language": "python",
   "name": "python3"
  },
  "language_info": {
   "codemirror_mode": {
    "name": "ipython",
    "version": 3
   },
   "file_extension": ".py",
   "mimetype": "text/x-python",
   "name": "python",
   "nbconvert_exporter": "python",
   "pygments_lexer": "ipython3",
   "version": "3.8.5"
  }
 },
 "nbformat": 4,
 "nbformat_minor": 4
}
